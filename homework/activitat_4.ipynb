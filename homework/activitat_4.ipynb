{
 "cells": [
  {
   "attachments": {},
   "cell_type": "markdown",
   "metadata": {},
   "source": [
    "<div align=\"right\">\n",
    "\n",
    "[![Open In Colab](https://colab.research.google.com/assets/colab-badge.svg)](https://colab.research.google.com/github/wisaaco/TallerPythonFEE/blob/main/homework/00/activitat_4.ipynb)\n",
    "\n",
    "\n",
    "</div>\n",
    "\n",
    "# 4. Activitat\n",
    "\n"
   ]
  },
  {
   "attachments": {},
   "cell_type": "markdown",
   "metadata": {},
   "source": [
    "### A) Del fitxer 4/data/data_groups.csv, llista les ciutats per el nombre de certificats del tipus \"A\""
   ]
  },
  {
   "cell_type": "code",
   "execution_count": null,
   "metadata": {},
   "outputs": [],
   "source": [
    "#TODO"
   ]
  },
  {
   "attachments": {},
   "cell_type": "markdown",
   "metadata": {},
   "source": [
    "### B) Del fitxer 4/data/data_groups.csv, Obté per cada ciutat una distribució del tipus de certificats (cada tipus és una nova columna)\n",
    "\n",
    "Exemple:\n",
    "```python\n",
    "Ciutat  A    B    C    D \n",
    "Palma   10   1    0    1\n",
    "```"
   ]
  },
  {
   "cell_type": "code",
   "execution_count": null,
   "metadata": {},
   "outputs": [],
   "source": [
    "#TODO"
   ]
  },
  {
   "attachments": {},
   "cell_type": "markdown",
   "metadata": {},
   "source": [
    "### C) Fitxer: 4/data/ResultadosElectorales2022.csv \n",
    " https://datos.gob.es/es/catalogo/a07002862-resultado-electoral-2022\n",
    "\n",
    "\n",
    "- Obté una taula amb el nombre de meses per província\n",
    "- Obté una taula amb el nombre de meses per província i per distrito\n",
    "- Comptabilitza el nombre de vots del \"PP i \"P.S.O.E\" per municipi\n"
   ]
  },
  {
   "cell_type": "code",
   "execution_count": 7,
   "metadata": {},
   "outputs": [],
   "source": [
    "#TODO"
   ]
  },
  {
   "cell_type": "code",
   "execution_count": null,
   "metadata": {},
   "outputs": [],
   "source": []
  }
 ],
 "metadata": {
  "kernelspec": {
   "display_name": "Python 3.9.7 64-bit ('3.9.7')",
   "language": "python",
   "name": "python3"
  },
  "language_info": {
   "codemirror_mode": {
    "name": "ipython",
    "version": 3
   },
   "file_extension": ".py",
   "mimetype": "text/x-python",
   "name": "python",
   "nbconvert_exporter": "python",
   "pygments_lexer": "ipython3",
   "version": "3.9.7"
  },
  "orig_nbformat": 4,
  "vscode": {
   "interpreter": {
    "hash": "1dd6de46b7c7be538353ccdeaa948031a5b4d43665739a26f55ca28b247c53cc"
   }
  }
 },
 "nbformat": 4,
 "nbformat_minor": 2
}
