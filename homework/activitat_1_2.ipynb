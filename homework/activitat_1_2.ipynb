{
 "cells": [
  {
   "attachments": {},
   "cell_type": "markdown",
   "metadata": {},
   "source": [
    "<div align=\"right\">\n",
    "\n",
    "[![Open In Colab](https://colab.research.google.com/assets/colab-badge.svg)](https://colab.research.google.com/github/wisaaco/TallerPythonFEE/blob/main/homework/00/activitat_1_2.ipynb)\n",
    "\n",
    "\n",
    "</div>\n",
    "\n",
    "# 1.2. Activitat\n",
    "\n",
    "A) Del fitxer WHO.csv, crea un nou dataframe que contengui les columnes: 4,10-39,90,120-123\n",
    "i guarda'l a un nou fitxer CSV anomenat _mini_who.csv_"
   ]
  },
  {
   "cell_type": "code",
   "execution_count": null,
   "metadata": {},
   "outputs": [],
   "source": []
  },
  {
   "cell_type": "markdown",
   "source": [
    "B) Donat el següent dataframe, una versió molt simplificada de `WHO` per poder comprovar les operacions:"
   ],
   "metadata": {
    "collapsed": false
   }
  },
  {
   "cell_type": "code",
   "execution_count": null,
   "outputs": [],
   "source": [
    "import pandas as pd\n",
    "\n",
    "# cream un diccionari amb les dades\n",
    "data = {'País': ['Estados Unidos', 'China', 'Japón', 'Alemania', 'Reino Unido', 'India', 'Francia', 'Italia', 'Brasil', 'Canadá'],\n",
    "        'PIB (billones de dólares)': [21.44, 15.54, 5.15, 4.17, 2.62, 2.61, 2.58, 1.93, 1.67, 1.65],\n",
    "        'Inflación (%)': [1.8, 2.9, 0.2, 1.6, 2.2, 5.0, 1.2, 0.9, 3.7, 1.8],\n",
    "        'Tasa de desempleo (%)': [3.7, 3.6, 2.9, 3.2, 3.8, 6.6, 8.1, 10.0, 13.9, 5.6],\n",
    "        'Índice de competitividad': [85.6, 83.1, 82.5, 80.9, 78.9, 64.4, 78.0, 70.3, 59.5, 77.2]}\n",
    "\n",
    "# cream el dataframe\n",
    "df_economia = pd.DataFrame(data)"
   ],
   "metadata": {
    "collapsed": false
   }
  },
  {
   "cell_type": "markdown",
   "source": [
    "1. Afegeix una columna al dataframe que sigui la població de cada país segons la següent llista: `poblacion = [328.2, 1393, 126.5, 83.2, 66.9, 1380, 66.99, 60.3, 212.6, 38.1]`\n",
    "2. Afegir una columna addicional que calculi el PIB per càpita per a cada país en dòlars dividint el PIB de cada país per la població.\n",
    "3. Seleccionar els països amb una tasa d'atur major a 8.0.\n",
    "4. Eliminar els països anteriorment seleccionats."
   ],
   "metadata": {
    "collapsed": false
   }
  },
  {
   "cell_type": "markdown",
   "source": [
    "C) Del fitxer presupuesto_ingresos_2023.csv, pots trobar el total de crèdit (un sumatori de la darrera columna): \"HASIERAKO KREDITUA/CREDITO INICIAL 2023\"?\n",
    "\n",
    "**Nota:** Aquest fitxer és a les activitats del segon dia."
   ],
   "metadata": {
    "collapsed": false
   }
  },
  {
   "cell_type": "code",
   "execution_count": null,
   "metadata": {},
   "outputs": [],
   "source": []
  }
 ],
 "metadata": {
  "kernelspec": {
   "display_name": "Python 3.9.7 64-bit ('3.9.7')",
   "language": "python",
   "name": "python3"
  },
  "language_info": {
   "codemirror_mode": {
    "name": "ipython",
    "version": 3
   },
   "file_extension": ".py",
   "mimetype": "text/x-python",
   "name": "python",
   "nbconvert_exporter": "python",
   "pygments_lexer": "ipython3",
   "version": "3.9.7 (default, May 11 2022, 11:18:00) \n[Clang 13.1.6 (clang-1316.0.21.2.3)]"
  },
  "orig_nbformat": 4,
  "vscode": {
   "interpreter": {
    "hash": "1dd6de46b7c7be538353ccdeaa948031a5b4d43665739a26f55ca28b247c53cc"
   }
  }
 },
 "nbformat": 4,
 "nbformat_minor": 2
}
