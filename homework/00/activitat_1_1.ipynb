{
 "cells": [
  {
   "attachments": {},
   "cell_type": "markdown",
   "metadata": {},
   "source": [
    "<div align=\"right\">\n",
    "\n",
    "[![Open In Colab](https://colab.research.google.com/assets/colab-badge.svg)](https://colab.research.google.com/github/wisaaco/TallerPythonFEE/blob/main/homework/00/activitat_1_1.ipynb)\n",
    "\n",
    "</div>\n",
    "\n",
    "# 1.1. Activitat\n",
    "\n",
    "\n",
    "A) De la següent llista aleatòria de numpy:"
   ]
  },
  {
   "cell_type": "code",
   "execution_count": null,
   "metadata": {},
   "outputs": [],
   "source": [
    "\n",
    "import numpy as np\n",
    "\n",
    "np.random.seed(0) # quan es generen nombres aleatoris és important fixar una llavor.\n",
    "                     # Mateixa llavor implica mateixos nombres aleatoris. Possibilita que l'estudi sigui reproduïble.\n",
    "\n",
    "temperaturesDiaries = np.random.randint(-10, 45, 100000) # distribució uniforme de 100000 valors entre -10 i 45\n",
    "\n",
    "print(\"Cinc primeres mostres: \", temperaturesDiaries[:5])\n",
    "print(\"Mostres totals: \", len(temperaturesDiaries))\n"
   ]
  },
  {
   "cell_type": "code",
   "execution_count": null,
   "metadata": {},
   "outputs": [],
   "source": [
    "# A.1 Podem trobar el número 9 en el llistat generat aleatòriament?"
   ]
  },
  {
   "cell_type": "code",
   "execution_count": null,
   "metadata": {},
   "outputs": [],
   "source": [
    "# A.2 Quin és el número més alt i més petit de la llista?"
   ]
  },
  {
   "cell_type": "code",
   "execution_count": null,
   "metadata": {},
   "outputs": [],
   "source": [
    "# A.3 Quantes mostres negatives n'hi ha?"
   ]
  },
  {
   "cell_type": "code",
   "execution_count": null,
   "metadata": {},
   "outputs": [],
   "source": [
    "# A.4 Quin és el valor mitjà?"
   ]
  },
  {
   "cell_type": "code",
   "execution_count": null,
   "metadata": {},
   "outputs": [],
   "source": [
    "# A.5 Quina és la suma acumulada?\n",
    "# Pista: https://numpy.org/doc/stable/reference/generated/numpy.cumsum.html\n"
   ]
  },
  {
   "cell_type": "code",
   "execution_count": null,
   "metadata": {},
   "outputs": [],
   "source": [
    "# A.6 Quina és la suma acumulada dels valors absoluts?\n",
    "# Pista: https://numpy.org/doc/stable/reference/generated/numpy.absolute.html\n"
   ]
  },
  {
   "cell_type": "code",
   "execution_count": null,
   "metadata": {},
   "outputs": [],
   "source": [
    "# A.7 Ordena la llista de major a menor i mostra els 10 primers valors\n",
    "# Pista: https://numpy.org/doc/stable/reference/generated/numpy.sort.html\n"
   ]
  },
  {
   "cell_type": "code",
   "execution_count": null,
   "metadata": {},
   "outputs": [],
   "source": [
    "# A.8 Posa tots els valors negatius a zero\n",
    "#Pista opcional: https://numpy.org/doc/stable/reference/generated/numpy.where.html\n"
   ]
  },
  {
   "cell_type": "code",
   "execution_count": null,
   "metadata": {},
   "outputs": [],
   "source": [
    "# A.9 Agafa 100 mostres aleatòries de l'original (de \"temperatures\")\n",
    "# Pista: Google!"
   ]
  }
 ],
 "metadata": {
  "kernelspec": {
   "display_name": "Python 3.9.7 64-bit ('3.9.7')",
   "language": "python",
   "name": "python3"
  },
  "language_info": {
   "codemirror_mode": {
    "name": "ipython",
    "version": 3
   },
   "file_extension": ".py",
   "mimetype": "text/x-python",
   "name": "python",
   "nbconvert_exporter": "python",
   "pygments_lexer": "ipython3",
   "version": "3.9.7 (default, May 11 2022, 11:18:00) \n[Clang 13.1.6 (clang-1316.0.21.2.3)]"
  },
  "orig_nbformat": 4,
  "vscode": {
   "interpreter": {
    "hash": "1dd6de46b7c7be538353ccdeaa948031a5b4d43665739a26f55ca28b247c53cc"
   }
  }
 },
 "nbformat": 4,
 "nbformat_minor": 2
}
