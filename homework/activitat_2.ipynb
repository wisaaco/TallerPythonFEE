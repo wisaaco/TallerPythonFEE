{
 "cells": [
  {
   "attachments": {},
   "cell_type": "markdown",
   "metadata": {},
   "source": [
    "<div style=\"text-align: center; margin-bottom: 15px;\">\n",
    "        <a href=\"https://colab.research.google.com/github/wisaaco/TallerPythonFEE/blob/main/homework/activitat_2.ipynb\" target=\"_blank\">\n",
    "            <img src=\"https://colab.research.google.com/assets/colab-badge.svg\" alt=\"Open In Colab\" style=\"height: 40px; transition: transform 0.2s ease;\" onmouseover=\"this.style.transform='scale(1.05)'\" onmouseout=\"this.style.transform='scale(1)'\">\n",
    "        </a>\n",
    "</div>"
   ]
  },
  {
   "cell_type": "markdown",
   "metadata": {},
   "source": [
    "# 2. Activitat"
   ]
  },
  {
   "cell_type": "markdown",
   "metadata": {},
   "source": [
    "A) Del fitxer 'data/WHO.csv', crea un nou dataframe que contengui les columnes: 4,10-39,90,120-123 i guarda'l a un nou fitxer CSV anomenat _mini_who.csv"
   ]
  },
  {
   "cell_type": "code",
   "execution_count": null,
   "metadata": {},
   "outputs": [],
   "source": [
    "#"
   ]
  },
  {
   "cell_type": "markdown",
   "metadata": {
    "collapsed": false
   },
   "source": [
    "B) Donat el següent dataframe, una versió molt simplificada de `WHO` per poder comprovar les operacions:"
   ]
  },
  {
   "cell_type": "code",
   "execution_count": null,
   "metadata": {
    "collapsed": false
   },
   "outputs": [],
   "source": [
    "import pandas as pd\n",
    "\n",
    "# Cream un diccionari amb les dades\n",
    "data = {'País': ['Estados Unidos', 'China', 'Japón', 'Alemania', 'Reino Unido', 'India', 'Francia', 'Italia', 'Brasil', 'Canadá'],\n",
    "        'PIB (billones de dólares)': [21.44, 15.54, 5.15, 4.17, 2.62, 2.61, 2.58, 1.93, 1.67, 1.65],\n",
    "        'Inflación (%)': [1.8, 2.9, 0.2, 1.6, 2.2, 5.0, 1.2, 0.9, 3.7, 1.8],\n",
    "        'Tasa de desempleo (%)': [3.7, 3.6, 2.9, 3.2, 3.8, 6.6, 8.1, 10.0, 13.9, 5.6],\n",
    "        'Índice de competitividad': [85.6, 83.1, 82.5, 80.9, 78.9, 64.4, 78.0, 70.3, 59.5, 77.2]}\n",
    "\n",
    "# Cream el dataframe\n",
    "df_economia = pd.DataFrame(data)"
   ]
  },
  {
   "cell_type": "code",
   "execution_count": null,
   "metadata": {},
   "outputs": [],
   "source": [
    "#1 Afegeix una columna al dataframe que sigui la població de cada país segons la següent llista: \n",
    "poblacion = [328.2, 1393, 126.5, 83.2, 66.9, 1380, 66.99, 60.3, 212.6, 38.1]"
   ]
  },
  {
   "cell_type": "code",
   "execution_count": null,
   "metadata": {},
   "outputs": [],
   "source": [
    "#2 Afegir una columna addicional que calculi el PIB per càpita per a cada país en dòlars dividint el PIB de cada país per la població."
   ]
  },
  {
   "cell_type": "code",
   "execution_count": null,
   "metadata": {},
   "outputs": [],
   "source": [
    "#3 Seleccionar els països amb una tasa d'atur major a 8.0."
   ]
  },
  {
   "cell_type": "code",
   "execution_count": null,
   "metadata": {},
   "outputs": [],
   "source": [
    "#4 Eliminar els països anteriorment seleccionats."
   ]
  }
 ],
 "metadata": {
  "kernelspec": {
   "display_name": "Python 3.9.7 64-bit ('3.9.7')",
   "language": "python",
   "name": "python3"
  },
  "language_info": {
   "codemirror_mode": {
    "name": "ipython",
    "version": 3
   },
   "file_extension": ".py",
   "mimetype": "text/x-python",
   "name": "python",
   "nbconvert_exporter": "python",
   "pygments_lexer": "ipython3",
   "version": "3.9.7 (default, May 11 2022, 11:18:00) \n[Clang 13.1.6 (clang-1316.0.21.2.3)]"
  },
  "orig_nbformat": 4,
  "vscode": {
   "interpreter": {
    "hash": "1dd6de46b7c7be538353ccdeaa948031a5b4d43665739a26f55ca28b247c53cc"
   }
  }
 },
 "nbformat": 4,
 "nbformat_minor": 2
}
